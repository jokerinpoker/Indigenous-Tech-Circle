{
 "cells": [
  {
   "cell_type": "code",
   "execution_count": 2,
   "id": "4012f3de-e29a-4a84-b178-86d25fbb93d6",
   "metadata": {},
   "outputs": [],
   "source": [
    "import pandas as pd\n",
    "import re\n",
    "from nltk.corpus import stopwords\n",
    "from nltk.tokenize import word_tokenize\n",
    "from sklearn.feature_extraction.text import TfidfVectorizer\n",
    "from sklearn.model_selection import train_test_split\n",
    "from sklearn.naive_bayes import MultinomialNB\n",
    "from sklearn.pipeline import make_pipeline\n",
    "from sklearn.metrics import classification_report\n",
    "\n",
    "# Load data\n",
    "data = pd.read_csv('search_contracts.csv', low_memory=False)"
   ]
  },
  {
   "cell_type": "code",
   "execution_count": 4,
   "id": "43af3c33-9253-46a2-a7a0-dc8da32c2c4e",
   "metadata": {},
   "outputs": [
    {
     "name": "stdout",
     "output_type": "stream",
     "text": [
      "category\n",
      "Other           46351\n",
      "Goods           12908\n",
      "Construction     9593\n",
      "Technology       8336\n",
      "Services         3976\n",
      "Name: count, dtype: int64\n"
     ]
    }
   ],
   "source": [
    "# Define a keyword dictionary for preliminary classification\n",
    "categories_keywords = {\n",
    "    'Technology': ['software', 'information technology', 'hardware', 'network', 'AI', 'data analysis'],\n",
    "    'Goods': ['office supplies', 'furniture', 'equipment', 'stationery', 'food'],\n",
    "    'Construction': ['construction', 'building', 'road', 'bridge', 'infrastructure'],\n",
    "    'Services': ['training', 'consulting', 'audit', 'repair', 'advertising', 'cleaning'],\n",
    "}\n",
    "\n",
    "# Function to categorize each description based on keywords\n",
    "def categorize_description(description):\n",
    "    # Check and convert to string\n",
    "    if not isinstance(description, str):\n",
    "        description = str(description)\n",
    "    \n",
    "    # Classification logic\n",
    "    description = description.lower()  # Convert to lowercase\n",
    "    for category, keywords in categories_keywords.items():\n",
    "        if any(keyword in description for keyword in keywords):\n",
    "            return category\n",
    "    return 'Other'  # Use 'Other' if no keywords match\n",
    "\n",
    "# Apply the function to add labels to the 'category' column\n",
    "data['category'] = data['description_eng'].apply(categorize_description)\n",
    "\n",
    "# View the updated 'category' column\n",
    "print(data['category'].value_counts())\n"
   ]
  },
  {
   "cell_type": "code",
   "execution_count": 6,
   "id": "1ae11f28-b7f9-4a41-ad43-cb5ae77e7bb4",
   "metadata": {},
   "outputs": [],
   "source": [
    "# Save the updated DataFrame to a new CSV file\n",
    "data.to_csv('categorized_contracts.csv', index=False)\n"
   ]
  },
  {
   "cell_type": "code",
   "execution_count": null,
   "id": "c6d559ec-3a2a-470b-ac9b-f7b26488336a",
   "metadata": {},
   "outputs": [],
   "source": []
  }
 ],
 "metadata": {
  "kernelspec": {
   "display_name": "Python 3 (ipykernel)",
   "language": "python",
   "name": "python3"
  },
  "language_info": {
   "codemirror_mode": {
    "name": "ipython",
    "version": 3
   },
   "file_extension": ".py",
   "mimetype": "text/x-python",
   "name": "python",
   "nbconvert_exporter": "python",
   "pygments_lexer": "ipython3",
   "version": "3.12.4"
  }
 },
 "nbformat": 4,
 "nbformat_minor": 5
}
